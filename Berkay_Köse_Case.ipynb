{
 "cells": [
  {
   "cell_type": "code",
   "execution_count": 1,
   "id": "f07d58cb-561d-444e-847f-7eb1e31a82db",
   "metadata": {},
   "outputs": [],
   "source": [
    "import pandas as pd\n",
    "import numpy as np\n",
    "import matplotlib.pyplot as plt\n",
    "import seaborn as sns\n",
    "from sklearn.impute import SimpleImputer\n",
    "from sklearn.preprocessing import LabelEncoder, StandardScaler"
   ]
  },
  {
   "cell_type": "code",
   "execution_count": 2,
   "id": "409c32c0-737d-49bf-97b9-f8208a210369",
   "metadata": {},
   "outputs": [],
   "source": [
    "df = pd.read_excel(\"Talent_Academy_Case_DT_2025.xlsx\")\n"
   ]
  },
  {
   "cell_type": "code",
   "execution_count": 3,
   "id": "839c38a8-0e77-4070-b980-d7d5900d571e",
   "metadata": {},
   "outputs": [
    {
     "name": "stdout",
     "output_type": "stream",
     "text": [
      "(2235, 13)\n",
      "<class 'pandas.core.frame.DataFrame'>\n",
      "RangeIndex: 2235 entries, 0 to 2234\n",
      "Data columns (total 13 columns):\n",
      " #   Column           Non-Null Count  Dtype \n",
      "---  ------           --------------  ----- \n",
      " 0   HastaNo          2235 non-null   int64 \n",
      " 1   Yas              2235 non-null   int64 \n",
      " 2   Cinsiyet         2066 non-null   object\n",
      " 3   KanGrubu         1560 non-null   object\n",
      " 4   Uyruk            2235 non-null   object\n",
      " 5   KronikHastalik   1624 non-null   object\n",
      " 6   Bolum            2224 non-null   object\n",
      " 7   Alerji           1291 non-null   object\n",
      " 8   Tanilar          2160 non-null   object\n",
      " 9   TedaviAdi        2235 non-null   object\n",
      " 10  TedaviSuresi     2235 non-null   object\n",
      " 11  UygulamaYerleri  2014 non-null   object\n",
      " 12  UygulamaSuresi   2235 non-null   object\n",
      "dtypes: int64(2), object(11)\n",
      "memory usage: 227.1+ KB\n",
      "None\n",
      "   HastaNo  Yas Cinsiyet KanGrubu    Uyruk  \\\n",
      "0   145134   60    Kadın    0 Rh+  Türkiye   \n",
      "1   145135   28    Erkek    0 Rh+  Türkiye   \n",
      "2   145135   28    Erkek    0 Rh+  Türkiye   \n",
      "3   145135   28    Erkek    0 Rh+  Türkiye   \n",
      "4   145135   28    Erkek    0 Rh+  Türkiye   \n",
      "\n",
      "                                      KronikHastalik  \\\n",
      "0  Becker Musküler Distrofisi, Hiportiroidizm, Ka...   \n",
      "1  Duchenne Musküler Distrofisi, Myastenia gravis...   \n",
      "2  Duchenne Musküler Distrofisi, Myastenia gravis...   \n",
      "3  Duchenne Musküler Distrofisi, Myastenia gravis...   \n",
      "4  Duchenne Musküler Distrofisi, Myastenia gravis...   \n",
      "\n",
      "                                            Bolum Alerji  \\\n",
      "0  Fiziksel Tıp Ve Rehabilitasyon,Solunum Merkezi    TOZ   \n",
      "1  Fiziksel Tıp Ve Rehabilitasyon,Solunum Merkezi    NaN   \n",
      "2  Fiziksel Tıp Ve Rehabilitasyon,Solunum Merkezi    NaN   \n",
      "3  Fiziksel Tıp Ve Rehabilitasyon,Solunum Merkezi    NaN   \n",
      "4  Fiziksel Tıp Ve Rehabilitasyon,Solunum Merkezi    NaN   \n",
      "\n",
      "                                             Tanilar  \\\n",
      "0         Ayak bileği ve ayağın yüzeysel yaralanması   \n",
      "1  Omuzun darbe sendromu,DORSALJİ, DİĞER, SERVİKO...   \n",
      "2  Omuzun darbe sendromu,DORSALJİ, DİĞER, SERVİKO...   \n",
      "3  Omuzun darbe sendromu,DORSALJİ, DİĞER, SERVİKO...   \n",
      "4  Omuzun darbe sendromu,DORSALJİ, DİĞER, SERVİKO...   \n",
      "\n",
      "                         TedaviAdi TedaviSuresi UygulamaYerleri UygulamaSuresi  \n",
      "0                      Ayak Bileği      5 Seans     Ayak Bileği      20 Dakika  \n",
      "1  Dorsalji -Boyun+trapez+skapular     15 Seans           Boyun      20 Dakika  \n",
      "2  Dorsalji -Boyun+trapez+skapular     15 Seans      Boyun,Sırt      20 Dakika  \n",
      "3  Dorsalji -Boyun+trapez+skapular     15 Seans           Boyun       5 Dakika  \n",
      "4  Dorsalji -Boyun+trapez+skapular     15 Seans      Boyun,Sırt      20 Dakika  \n"
     ]
    }
   ],
   "source": [
    "print(df.shape)\n",
    "print(df.info())\n",
    "print(df.head())"
   ]
  },
  {
   "cell_type": "code",
   "execution_count": 5,
   "id": "d2da5697-6a47-42ff-a014-3eaf31bbc4a2",
   "metadata": {},
   "outputs": [],
   "source": [
    "df = df.dropna(subset=['TedaviSuresi'])"
   ]
  },
  {
   "cell_type": "code",
   "execution_count": 6,
   "id": "14fd2c7b-4830-469f-a07f-f649630f0050",
   "metadata": {},
   "outputs": [],
   "source": [
    "categorical_cols = ['Cinsiyet','KanGrubu','Uyruk','KronikHastalik','Bolum','Alerji','Tanilar','TedaviAdi','UygulamaYerleri']\n",
    "imputer_cat = SimpleImputer(strategy='most_frequent')\n",
    "df[categorical_cols] = imputer_cat.fit_transform(df[categorical_cols])"
   ]
  },
  {
   "cell_type": "code",
   "execution_count": 7,
   "id": "3b9475e6-a4ab-485a-9c43-602b96a89e09",
   "metadata": {},
   "outputs": [],
   "source": [
    "df['TedaviSuresi'] = df['TedaviSuresi'].astype(str).str.extract(r'(\\d+)').astype(int)\n",
    "df['UygulamaSuresi'] = df['UygulamaSuresi'].astype(str).str.extract(r'(\\d+)').astype(float)"
   ]
  },
  {
   "cell_type": "code",
   "execution_count": 8,
   "id": "f739905f-8ea6-4ea5-971e-8e8e14ed9002",
   "metadata": {},
   "outputs": [],
   "source": [
    "df['ToplamUygulamaSuresi'] = df['TedaviSuresi'] * df['UygulamaSuresi']"
   ]
  },
  {
   "cell_type": "code",
   "execution_count": 9,
   "id": "f5eb0cc3-abe9-49d1-a347-efbf6e206f7f",
   "metadata": {},
   "outputs": [],
   "source": [
    "def yas_grubu(yas):\n",
    "    if yas < 18:\n",
    "        return 'Çocuk'\n",
    "    elif yas < 35:\n",
    "        return 'Genç'\n",
    "    elif yas < 60:\n",
    "        return 'Orta Yaş'\n",
    "    else:\n",
    "        return 'Yaşlı'\n",
    "\n",
    "df['Yas_Grubu'] = df['Yas'].apply(yas_grubu)"
   ]
  },
  {
   "cell_type": "code",
   "execution_count": 10,
   "id": "e54a6f21-3988-47d1-a877-040a0280162d",
   "metadata": {},
   "outputs": [],
   "source": [
    "df_encoded = pd.get_dummies(df, columns=categorical_cols, drop_first=True)"
   ]
  },
  {
   "cell_type": "code",
   "execution_count": 11,
   "id": "bd558933-b6c4-43f2-b9e3-b13cf177dabd",
   "metadata": {},
   "outputs": [
    {
     "data": {
      "image/png": "[encoded data removed]",
      "text/plain": [
       "<Figure size 800x500 with 1 Axes>"
      ]
     },
     "metadata": {},
     "output_type": "display_data"
    }
   ],
   "source": [
    "plt.figure(figsize=(8,5))\n",
    "sns.histplot(df['TedaviSuresi'], bins=10, kde=True, color='skyblue')\n",
    "plt.title('Tedavi Süresi Dağılımı')\n",
    "plt.xlabel('Seans Sayısı')\n",
    "plt.ylabel('Hasta Sayısı')\n",
    "plt.show()"
   ]
  },
  {
   "cell_type": "code",
   "execution_count": 12,
   "id": "785224bb-99f0-4919-b433-0073069ced85",
   "metadata": {},
   "outputs": [
    {
     "data": {
      "image/png": "[encoded data removed]",
      "text/plain": [
       "<Figure size 800x500 with 1 Axes>"
      ]
     },
     "metadata": {},
     "output_type": "display_data"
    }
   ],
   "source": [
    "plt.figure(figsize=(8,5))\n",
    "sns.histplot(df['UygulamaSuresi'], bins=10, kde=True, color='lightgreen')\n",
    "plt.title('Uygulama Süresi Dağılımı')\n",
    "plt.xlabel('Dakika')\n",
    "plt.ylabel('Hasta Sayısı')\n",
    "plt.show()"
   ]
  },
  {
   "cell_type": "code",
   "execution_count": 13,
   "id": "47619afd-b3b5-4981-9dc2-f48f1636e816",
   "metadata": {},
   "outputs": [
    {
     "data": {
      "image/png": "[encoded data removed]",
      "text/plain": [
       "<Figure size 800x500 with 1 Axes>"
      ]
     },
     "metadata": {},
     "output_type": "display_data"
    }
   ],
   "source": [
    "plt.figure(figsize=(8,5))\n",
    "sns.boxplot(\n",
    "    x='Yas_Grubu',\n",
    "    y='TedaviSuresi',\n",
    "    data=df,\n",
    "    hue='Yas_Grubu',   # Ekledik\n",
    "    palette='Set2',\n",
    "    dodge=False,\n",
    "    legend=False       # Ekledik\n",
    ")\n",
    "plt.title('Yaş Gruplarına Göre Tedavi Süresi Dağılımı')\n",
    "plt.xlabel('Yaş Grubu')\n",
    "plt.ylabel('Seans Sayısı')\n",
    "plt.show()\n"
   ]
  },
  {
   "cell_type": "code",
   "execution_count": 14,
   "id": "23697bff-fc4c-4430-b17d-f1c50398f1dc",
   "metadata": {},
   "outputs": [
    {
     "data": {
      "image/png": "[encoded data removed]",
      "text/plain": [
       "<Figure size 600x500 with 1 Axes>"
      ]
     },
     "metadata": {},
     "output_type": "display_data"
    }
   ],
   "source": [
    "plt.figure(figsize=(6,5))\n",
    "sns.boxplot(\n",
    "    x='Cinsiyet',\n",
    "    y='TedaviSuresi',\n",
    "    data=df,\n",
    "    hue='Cinsiyet',      # Ekledik\n",
    "    palette='Pastel1',\n",
    "    dodge=False,\n",
    "    legend=False         # Ekledik\n",
    ")\n",
    "plt.title('Cinsiyete Göre Tedavi Süresi Dağılımı')\n",
    "plt.xlabel('Cinsiyet')\n",
    "plt.ylabel('Seans Sayısı')\n",
    "plt.show()\n"
   ]
  },
  {
   "cell_type": "code",
   "execution_count": 15,
   "id": "0865f5f6-d48a-45e0-8d08-06063108f606",
   "metadata": {},
   "outputs": [
    {
     "data": {
      "image/png": "[encoded data removed]",
      "text/plain": [
       "<Figure size 600x400 with 1 Axes>"
      ]
     },
     "metadata": {},
     "output_type": "display_data"
    }
   ],
   "source": [
    "yas_ortalama = df.groupby('Yas_Grubu')['TedaviSuresi'].mean().sort_values(ascending=False)\n",
    "\n",
    "plt.figure(figsize=(6,4))\n",
    "sns.barplot(\n",
    "    x=yas_ortalama.values,\n",
    "    y=yas_ortalama.index,\n",
    "    color='lightblue'   # Tek renk\n",
    ")\n",
    "plt.title('Yaş Grubuna Göre Ortalama Tedavi Süresi')\n",
    "plt.xlabel('Ortalama Seans Sayısı')\n",
    "plt.ylabel('Yaş Grubu')\n",
    "plt.show()\n"
   ]
  },
  {
   "cell_type": "code",
   "execution_count": 16,
   "id": "d5d78d58-3e36-4d4d-982b-2d8c21605fd5",
   "metadata": {},
   "outputs": [
    {
     "data": {
      "image/png": "[encoded data removed]",
      "text/plain": [
       "<Figure size 1200x600 with 1 Axes>"
      ]
     },
     "metadata": {},
     "output_type": "display_data"
    }
   ],
   "source": [
    "bolum_ortalama = df.groupby('Bolum')['TedaviSuresi'].mean().sort_values(ascending=False)\n",
    "plt.figure(figsize=(12,6))\n",
    "sns.barplot(x=bolum_ortalama.values, y=bolum_ortalama.index, color='red')\n",
    "plt.xlabel('Ortalama Tedavi Süresi (Seans)')\n",
    "plt.ylabel('Bölüm')\n",
    "plt.title('Bölüm Bazlı Ortalama Tedavi Süresi', fontsize=14)\n",
    "plt.yticks(rotation=0, fontsize=10)\n",
    "plt.tight_layout()\n",
    "plt.show()"
   ]
  },
  {
   "cell_type": "code",
   "execution_count": 17,
   "id": "038f2c07-d9cf-4ed2-b504-ce3d3e221aa3",
   "metadata": {},
   "outputs": [
    {
     "data": {
      "image/png": "[encoded data removed]",
      "text/plain": [
       "<Figure size 600x500 with 2 Axes>"
      ]
     },
     "metadata": {},
     "output_type": "display_data"
    }
   ],
   "source": [
    "numeric_cols = ['Yas', 'TedaviSuresi', 'UygulamaSuresi', 'ToplamUygulamaSuresi']\n",
    "corr = df[numeric_cols].corr()\n",
    "plt.figure(figsize=(6,5))\n",
    "sns.heatmap(corr, annot=True, cmap='coolwarm')\n",
    "plt.title('Sayısal Değişkenler Korelasyonu')\n",
    "plt.show()"
   ]
  },
  {
   "cell_type": "code",
   "execution_count": 18,
   "id": "b2a18490-3add-4ff8-bd6d-9933d4ba6324",
   "metadata": {
    "scrolled": true
   },
   "outputs": [
    {
     "data": {
      "application/vnd.plotly.v1+json": {
       "config": {
        "plotlyServerURL": "https://plot.ly"
       },
       "data": [
        {
         "hovertemplate": "TedaviSuresi=%{marker.color}<br>TedaviAdi=%{y}<extra></extra>",
         "legendgroup": "",
         "marker": {
          "color": {
           "bdata": "AAAAAAAAPkAAAAAAAAA+QAAAAAAAADZAAAAAAAAANUAAAAAAAAA1QAAAAAAAADRAAAAAAAAANEAAAAAAAAA0QAAAAAAAADRAAAAAAAAANEAAAAAAAAA0QAAAAAAAADRAAAAAAAAANEAAAAAAAAA0QAAAAAAAADRAAAAAAAAANEAAAAAAAAA0QAAAAAAAADRAAAAAAAAANEAAAAAAAAA0QAAAAAAAADRAAAAAAAAANEAAAAAAAAA0QAAAAAAAADRAAAAAAAAAM0AAAAAAAIAxQAAAAAAAADFAAAAAAABAMEAzMzMzMzMwQAAAAAAAADBAAAAAAAAAMEBu27Zt27YvQCVJkiRJEi9AKK+hvIbyLkDpoosuuuguQAAAAAAAgC5AzczMzMwMLkAAAAAAAAAuQAAAAAAAAC5AAAAAAAAALkAAAAAAAAAuQAAAAAAAAC5AAAAAAAAALkAAAAAAAAAuQAAAAAAAAC5AAAAAAAAALkAAAAAAAAAuQAAAAAAAAC5AAAAAAAAALkAAAAAAAAAuQAAAAAAAAC5AAAAAAAAALkAAAAAAAAAuQAAAAAAAAC5AAAAAAAAALkAAAAAAAAAuQAAAAAAAAC5AAAAAAAAALkAAAAAAAAAuQAAAAAAAAC5AAAAAAAAALkAAAAAAAAAuQAAAAAAAAC5AAAAAAAAALkAAAAAAAAAuQAAAAAAAAC5AAAAAAAAALkAAAAAAAAAuQAAAAAAAAC5AAAAAAAAALkAAAAAAAAAuQAAAAAAAAC5AAAAAAAAALkAAAAAAAAAuQAAAAAAAAC5AAAAAAAAALkAAAAAAAAAuQAAAAAAAAC5AAAAAAAAALkAAAAAAAAAuQAAAAAAAAC5AAAAAAAAALkAAAAAAAAAuQAAAAAAAAC5AAAAAAAAALkAAAAAAAAAuQAAAAAAAAC5AAAAAAAAALkAAAAAAAAAuQAAAAAAAAC5AAAAAAAAALkAAAAAAAAAuQAAAAAAAAC5AAAAAAAAALkAAAAAAAAAuQAAAAAAAAC5AAAAAAAAALkAAAAAAAAAuQAAAAAAAAC5AAAAAAAAALkAAAAAAAAAuQAAAAAAAAC5AAAAAAAAALkAAAAAAAAAuQAAAAAAAAC5AAAAAAAAALkAAAAAAAAAuQAAAAAAAAC5AAAAAAAAALkAAAAAAAAAuQAAAAAAAAC5AAAAAAAAALkAAAAAAAAAuQAAAAAAAAC5AAAAAAAAALkAAAAAAAAAuQAAAAAAAAC5AAAAAAAAALkAAAAAAAAAuQAAAAAAAAC5AAAAAAAAALkAAAAAAAAAuQAAAAAAAAC5AAAAAAAAALkAAAAAAAAAuQAAAAAAAAC5AAAAAAAAALkAAAAAAAAAuQAAAAAAAAC5AAAAAAAAALkAAAAAAAAAuQAAAAAAAAC5AAAAAAAAALkAAAAAAAAAuQAAAAAAAAC5AAAAAAAAALkAAAAAAAAAuQAAAAAAAAC5AAAAAAAAALkAAAAAAAAAuQAAAAAAAAC5AAAAAAAAALkAAAAAAAAAuQAAAAAAAAC5AAAAAAAAALkAAAAAAAAAuQAAAAAAAAC5AAAAAAAAALkAAAAAAAAAuQAAAAAAAAC5AAAAAAAAALkAAAAAAAAAuQAAAAAAAAC5AAAAAAAAALkAAAAAAAAAuQAAAAAAAAC5AAAAAAAAALkAAAAAAAAAuQAAAAAAAAC5AAAAAAAAALkAAAAAAAAAuQAAAAAAAAC5AAAAAAAAALkAAAAAAAAAuQFVVVVVVVS1AAAAAAAAALUBVVVVVVVUsQAAAAAAAACxAAAAAAAAAKkBu27Zt27YpQBX5rBtMkSlAAAAAAAAAKUAAAAAAAAApQIwuuuiiiyhAVVVVVVVVJ0AAAAAAAAAmQAAAAAAAACZAAAAAAAAAJEAAAAAAAAAkQAAAAAAAACRAAAAAAAAAJEAAAAAAAAAkQAAAAAAAACRAAAAAAAAAJEAAAAAAAAAkQAAAAAAAACRAAAAAAAAAJEAAAAAAAAAkQAAAAAAAACRAAAAAAAAAJEAAAAAAAAAkQAAAAAAAACRAAAAAAAAAJEAAAAAAAAAkQAAAAAAAACRAAAAAAAAAJEAAAAAAAAAkQAAAAAAAACRAAAAAAAAAJEAAAAAAAAAkQAAAAAAAACRAAAAAAAAAJEAAAAAAAAAkQAAAAAAAACRAzczMzMzMHEAAAAAAAAAYQAAAAAAAABRAAAAAAAAAFEAAAAAAAAAUQAAAAAAAABBAAAAAAAAAEEAAAAAAAAAQQAAAAAAAABBAAAAAAAAAEEAAAAAAAAAQQAAAAAAAABBAAAAAAAAAEEAAAAAAAAAQQAAAAAAAABBAAAAAAAAAEEAAAAAAAAAQQJqZmZmZmQlAAAAAAAAACEAAAAAAAAAIQAAAAAAAAAhAAAAAAAAAAEAAAAAAAAAAQAAAAAAAAABAAAAAAAAAAEAAAAAAAAAAQAAAAAAAAABAAAAAAAAAAEAAAAAAAAAAQAAAAAAAAABAAAAAAAAAAEAAAAAAAAAAQAAAAAAAAABAAAAAAAAAAEAAAAAAAAAAQAAAAAAAAABAAAAAAAAAAEAAAAAAAADwPwAAAAAAAPA/AAAAAAAA8D8=",
           "dtype": "f8"
          },
          "coloraxis": "coloraxis",
          "pattern": {
           "shape": ""
          }
         },
         "name": "",
         "orientation": "h",
         "showlegend": false,
         "text": {
          "bdata": "AAAAAAAAPkAAAAAAAAA+QAAAAAAAADZAAAAAAAAANUAAAAAAAAA1QAAAAAAAADRAAAAAAAAANEAAAAAAAAA0QAAAAAAAADRAAAAAAAAANEAAAAAAAAA0QAAAAAAAADRAAAAAAAAANEAAAAAAAAA0QAAAAAAAADRAAAAAAAAANEAAAAAAAAA0QAAAAAAAADRAAAAAAAAANEAAAAAAAAA0QAAAAAAAADRAAAAAAAAANEAAAAAAAAA0QAAAAAAAADRAAAAAAAAAM0AAAAAAAIAxQAAAAAAAADFAAAAAAABAMEAzMzMzMzMwQAAAAAAAADBAAAAAAAAAMEBu27Zt27YvQCVJkiRJEi9AKK+hvIbyLkDpoosuuuguQAAAAAAAgC5AzczMzMwMLkAAAAAAAAAuQAAAAAAAAC5AAAAAAAAALkAAAAAAAAAuQAAAAAAAAC5AAAAAAAAALkAAAAAAAAAuQAAAAAAAAC5AAAAAAAAALkAAAAAAAAAuQAAAAAAAAC5AAAAAAAAALkAAAAAAAAAuQAAAAAAAAC5AAAAAAAAALkAAAAAAAAAuQAAAAAAAAC5AAAAAAAAALkAAAAAAAAAuQAAAAAAAAC5AAAAAAAAALkAAAAAAAAAuQAAAAAAAAC5AAAAAAAAALkAAAAAAAAAuQAAAAAAAAC5AAAAAAAAALkAAAAAAAAAuQAAAAAAAAC5AAAAAAAAALkAAAAAAAAAuQAAAAAAAAC5AAAAAAAAALkAAAAAAAAAuQAAAAAAAAC5AAAAAAAAALkAAAAAAAAAuQAAAAAAAAC5AAAAAAAAALkAAAAAAAAAuQAAAAAAAAC5AAAAAAAAALkAAAAAAAAAuQAAAAAAAAC5AAAAAAAAALkAAAAAAAAAuQAAAAAAAAC5AAAAAAAAALkAAAAAAAAAuQAAAAAAAAC5AAAAAAAAALkAAAAAAAAAuQAAAAAAAAC5AAAAAAAAALkAAAAAAAAAuQAAAAAAAAC5AAAAAAAAALkAAAAAAAAAuQAAAAAAAAC5AAAAAAAAALkAAAAAAAAAuQAAAAAAAAC5AAAAAAAAALkAAAAAAAAAuQAAAAAAAAC5AAAAAAAAALkAAAAAAAAAuQAAAAAAAAC5AAAAAAAAALkAAAAAAAAAuQAAAAAAAAC5AAAAAAAAALkAAAAAAAAAuQAAAAAAAAC5AAAAAAAAALkAAAAAAAAAuQAAAAAAAAC5AAAAAAAAALkAAAAAAAAAuQAAAAAAAAC5AAAAAAAAALkAAAAAAAAAuQAAAAAAAAC5AAAAAAAAALkAAAAAAAAAuQAAAAAAAAC5AAAAAAAAALkAAAAAAAAAuQAAAAAAAAC5AAAAAAAAALkAAAAAAAAAuQAAAAAAAAC5AAAAAAAAALkAAAAAAAAAuQAAAAAAAAC5AAAAAAAAALkAAAAAAAAAuQAAAAAAAAC5AAAAAAAAALkAAAAAAAAAuQAAAAAAAAC5AAAAAAAAALkAAAAAAAAAuQAAAAAAAAC5AAAAAAAAALkAAAAAAAAAuQAAAAAAAAC5AAAAAAAAALkAAAAAAAAAuQAAAAAAAAC5AAAAAAAAALkAAAAAAAAAuQAAAAAAAAC5AAAAAAAAALkAAAAAAAAAuQAAAAAAAAC5AAAAAAAAALkAAAAAAAAAuQAAAAAAAAC5AAAAAAAAALkAAAAAAAAAuQAAAAAAAAC5AAAAAAAAALkAAAAAAAAAuQAAAAAAAAC5AAAAAAAAALkAAAAAAAAAuQFVVVVVVVS1AAAAAAAAALUBVVVVVVVUsQAAAAAAAACxAAAAAAAAAKkBu27Zt27YpQBX5rBtMkSlAAAAAAAAAKUAAAAAAAAApQIwuuuiiiyhAVVVVVVVVJ0AAAAAAAAAmQAAAAAAAACZAAAAAAAAAJEAAAAAAAAAkQAAAAAAAACRAAAAAAAAAJEAAAAAAAAAkQAAAAAAAACRAAAAAAAAAJEAAAAAAAAAkQAAAAAAAACRAAAAAAAAAJEAAAAAAAAAkQAAAAAAAACRAAAAAAAAAJEAAAAAAAAAkQAAAAAAAACRAAAAAAAAAJEAAAAAAAAAkQAAAAAAAACRAAAAAAAAAJEAAAAAAAAAkQAAAAAAAACRAAAAAAAAAJEAAAAAAAAAkQAAAAAAAACRAAAAAAAAAJEAAAAAAAAAkQAAAAAAAACRAzczMzMzMHEAAAAAAAAAYQAAAAAAAABRAAAAAAAAAFEAAAAAAAAAUQAAAAAAAABBAAAAAAAAAEEAAAAAAAAAQQAAAAAAAABBAAAAAAAAAEEAAAAAAAAAQQAAAAAAAABBAAAAAAAAAEEAAAAAAAAAQQAAAAAAAABBAAAAAAAAAEEAAAAAAAAAQQJqZmZmZmQlAAAAAAAAACEAAAAAAAAAIQAAAAAAAAAhAAAAAAAAAAEAAAAAAAAAAQAAAAAAAAABAAAAAAAAAAEAAAAAAAAAAQAAAAAAAAABAAAAAAAAAAEAAAAAAAAAAQAAAAAAAAABAAAAAAAAAAEAAAAAAAAAAQAAAAAAAAABAAAAAAAAAAEAAAAAAAAAAQAAAAAAAAABAAAAAAAAAAEAAAAAAAADwPwAAAAAAAPA/AAAAAAAA8D8=",
          "dtype": "f8"
         },
         "textposition": "auto",
         "type": "bar",
         "x": {
          "bdata": "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",
          "dtype": "f8"
         },
         "xaxis": "x",
         "y": [
          "Travmatik beyin yaralanması",
          "Parapleji-Tetrapleji",
          "Boyun",
          "Bel",
          "Parmak protezi",
          "Dirsek eklem çıkığı+Kontraktürü",
          "Hemartrotik Diz",
          "Kondromalezi patella-2",
          "Kondromalezi patella-1",
          "Hemartrotik Diz-Kas Kuvvetlendirme Egzersizi",
          "Kondromalezi patella-2-Kas Kuvvetlendirme Egzersizi",
          "Sol  ÖÇB Rehabilitasyonu-1",
          "Serebral Palsi",
          "Sağ  Hemiparezi",
          "Sağ hemiparezi+ Beyin Tm op lusu",
          "Sağ hemipleji",
          "Pediatrik Rehabilitasyon Programı-1",
          "Dorsalji-Bel+ Eklem ağrsıı",
          "Algonörodistrofi Sol Ayak",
          "Dorsalji +Servikal Myelomalazi",
          "Ön çapraz bağ rehabilitasyonu",
          "Sol  ÖÇB Rehabilitasyonu-2",
          "Sol omuz İmpingement+ servikal traksiyon injurisi",
          "SOL hEMİPLEJİ",
          "Aşil Rüptürü Op ",
          "Ayak bileği Post OP",
          "SAĞ OMUZ protezi+ el bileği kırığı",
          "MENİSKÜS TAMİRİ ",
          "Sol Omuz impingement",
          "Muskuler strain",
          "Kalça ağrısı ",
          "Dorsalji 1",
          "Dorsalji-Dorsal",
          "Gonartroz-Meniskopati",
          "Dorsalji -Boyun+trapez",
          "Sol diz implantı reh",
          "İV DİSK BOZUKLUĞU-BEL",
          "Dorsalji -Boyun+trapez+skapular",
          "Diz ağrısı",
          "Boyun-Düşük kol",
          "Aşil Tendiniti sol-1",
          "Aşil Tendiniti sol-2",
          "Dorsalji",
          "Aşil Rüptürü-1",
          "Bilateral Diz Eklem İmplantı",
          "Beyin kanaması+atrofi",
          "Kifoz",
          "Koksartroz",
          "Gonartroz",
          "Epikondilit-2",
          "Baker kisti rüptürü",
          "5. metatars fissürü+bağ lezyonu",
          "Kondromalezi patella+lateralizasyon",
          "Kondromalazi patella",
          "Koksartroz1-2",
          "Koksartroz1-1",
          "Koksartroz1-2-Kas Kuvvetlendirme Egzersizi",
          "Lenfödem+ekstremite ağrısı",
          "Koksartroz 1",
          "Humerus alt uş-Dirsek kırığı",
          "Kalkaneal Spur-1",
          "Kalça + bel  ağrısı ",
          "Kalkaneal Spur-2",
          "Eklem ağrısı",
          "Gonartroz-Meniskopati + kalkaneal Spur",
          "Fleksör tendon yaralanması",
          "El rehabilitasyonu-El Rehabilitasyonu",
          "EL BİLEĞİ TENDİNİT+GANGLİON",
          "KALÇA AĞRISI SAĞ",
          "EL REHABİLİTASYONU",
          "Eklem ağrsıı",
          "Kalça ağrısı +FAS",
          "Koksartroz1",
          "Quadriseps Güçlendirme",
          "Plantar fasiit Sağ-2",
          "Sağ servikal radikülopati",
          "Sağ düşük ayak",
          "Sağ medial epikondilit Muskuler strain",
          "Sağ el bilek ağrıs",
          "Sağ+ sol humerus kırığı ",
          "Sağ omuz impingement+ adezif kapsülit",
          "Sağ omuz İmpingemen Post op",
          "Sağ omuz impingement",
          "Sağ omuz adezif kapsülüt+tendinit",
          "Malleol kırığı-2",
          "Mallet finger+ algonörodistrofi",
          "Malleol kırığı-1",
          "Meralgia Parestetika",
          "Omuz El sendromu",
          "Myodascial ağrı",
          "Patellar gevşetme+quadriseps güçsüzlüğü",
          "Plantar Fasiit",
          "Sağ Diz Eklem İmplantı Reha",
          "SAĞ OMUZ İMPİNGEMENT",
          "Sağ Kalça ve bacak kuvvetsizliği+ağrısı",
          "Sağ hemiparezi",
          "Parmak kırığı",
          "Parmak protezi-El Rehabilitasyonu",
          "Fibula kırığı",
          "Fasiyal Paralizi",
          "Dorsalji+ radikülopati ",
          "Düşük ayak",
          "Dorsalji-Boyun sırt",
          "Dorsalji-Servikal ",
          "Dorsalji- Koksiks",
          "Ekstansör tendon Rehabilitasyon ",
          "Ayak bileği distorsiyonu",
          "Boyun-Sırt ağrısı",
          "Aşil Rüptürü Rehabilitasyonu",
          "Aşil Rüptürü-2",
          "1. parmak bağ ve volar plak yaralanması",
          "Algonörodistrofi Sol ayak",
          "Alt ekstremite atrofi-",
          "Ayak bileği distorsiyonu-1",
          "Ayak bileği distorsiyonu-2",
          "1. Parmak CMC eklem ağrısı",
          "İmpingement Sağ",
          "İV DİSK BOZUKLUĞU-BEL-2",
          "İV DİSK BOZUKLUĞU-BEL-1",
          "impingement sağ",
          "İV Disk Boyun",
          "kalça ağrısı+trokanterik bursit",
          "Triseps tendiniti-1",
          "Tendinit-tenosinovit-1",
          "Volar plak reh",
          "Trokanterik bursit",
          "servikal Disk Hernisi",
          "Çapraz bağ lezyonu",
          "impingement Sol",
          "Triseps tendiniti-2",
          "Sol Diz Eklem İmplantı",
          "Siyatalji",
          "Spinal Stenoz",
          "Tendinit-tenosinovit-2",
          "Teres majör Kas strain",
          "Sol diz Post Op-Geç Dönme",
          "Sol el tendon yaralanması ",
          "Sol omuz İmpingement+ CMC artroz",
          "Sol omuz İmpingemen Post op",
          "Sol düşük ayak",
          "TME bozukluğu",
          "Sol Omuz impingement (darbe sendromu)",
          "Tetik parmak Op lusu",
          "Patella Yerleşim Boz",
          "Organ Nakli Mobilizasyon",
          "Muskuler strain+ tendinit",
          "Metatarsalji",
          "Medial Palntar Sinir sıkışması",
          "Servikal İV disk bozukluğu",
          "Sol  omuz İmpingemen ",
          "Skolyoz",
          "Sol Omuz İmpingement+ dorsalji",
          "Sol Lateral epikondilit",
          "Sol Meralgia parestetika",
          "Sol Kalça İmplantı Geç Rehabilitasyonu",
          "Sol Omuz İmpingement",
          "Plantar fasiit Sağ-1",
          "Radikülopati",
          "Metkarp kırığı+ Kontraktür",
          "SOL KALÇA İMPLANTI",
          "Sağ ayak 1. parmak ravmatik yaralanması",
          "Sol diz Pre Op",
          "Spondilolistezis",
          "TFCC  Rehabilitasyon ",
          "Dorsalji-Bel",
          "Sol omuz İmpingement",
          "Boyun-Trapezz",
          "Epikondilit-1",
          "Epikondilit",
          "Dorsalji Boyun 1",
          "Alt ekstremite atrofi-Bilateral",
          "Algonörodistrofi Sol el",
          "El rehabilitasyonu",
          "Aşil Kısalığı",
          "Bel FTR",
          "Alt ekstremite atrofi+yürüme",
          "Meniskopati Bursit",
          "El rehabilitasyon programı- Alçak ve Orta Frekanslı Akımlar",
          "Hemiparezi",
          "Hemipleji",
          "ÖÇB",
          "TFCC rehabilitasyonu",
          "Sol hemipleji Yatakta",
          "Sol el artroplastisi",
          "Serebrovasküler olay",
          "Yaygın kuvvetsizlik-Yürüme egzersizleri ",
          "Yaygın kuvvetsizlik",
          "Sol Hemiparezi+ el kontraktürü",
          "Pilates bel",
          "Pelvik Taban Rehabilitasyonu",
          "Sağ omuz İmpingement",
          "PTR",
          "Femur uzatma op",
          "Parapleji",
          "Paraparezi",
          "Metakarp kırığı El rehabilitasyonu",
          "El rehabilitasyon programı",
          "Kalça impingiment",
          "El rehabilitasyon programı- Yüzeysel Soğuk ve Isıtıcılar",
          "El rehabilitasyon programı-ROM Egzersizi (eklem hareket açıklığı egzersizi) ",
          "Deneme ",
          "Aksiller web sendromu+kontraktür",
          "Ataksi reh",
          "Ayak bileği Kontraktürü",
          "Patella kırığı",
          "Sağ subtrokanterik kırık",
          "Plantar fasiit",
          "Ayak Bileği",
          "xx",
          "Diz Menisküs Erken mobilizasyon",
          "Diz Menisküs,",
          "Bilarteral implant-Erken rehabilitasyon",
          "Sol kalça implantı",
          "Muscular strain",
          "Menisküs op. lusu",
          "Diz Menisküs, ",
          "Humerus kırığı",
          "Kalça labrum yırtığı opl",
          "Eklem implantı-Bilateral",
          "Kemik uzatma op lusu",
          "DİZ PROTEZİ SONRASI TAM  YÜK",
          "Diz Op-Erken Rehabilitasyon",
          "DENEME ",
          "Postop Kalça implantı -Sol-2",
          "Postop Kalça implantı -Sol-1",
          "Aşil tamiri",
          "Bialetarl Diz İmplantı-Erken rehabilitasyon",
          "Diz implantı",
          "Kalça İmplantı-Erken rehabilitasyon",
          "Kalça implant-Erken rehabilitasyon",
          "Kalça Travmatik yaralanması",
          "Eklem implant-Erken rehabilitasyon",
          "Artroskopi Diz Tam yükle mobilizasyon",
          "Postop Diz Artroskopi-Sol",
          "Menisektomi-Erken rehabilitasyon",
          "Postop Diz Artroskopi-Sağ",
          "İmpimgement send",
          "aşil ameliyatı erken",
          "Yürüme",
          "Yürüme eğitimi",
          "onur",
          "Omuz Post Op İzometrik",
          "Spinal manüpilasyon",
          "İmpingement op izometrik"
         ],
         "yaxis": "y"
        }
       ],
       "layout": {
        "barmode": "relative",
        "coloraxis": {
         "colorbar": {
          "title": {
           "text": "TedaviSuresi"
          }
         },
         "colorscale": [
          [
           0,
           "#440154"
          ],
          [
           0.1111111111111111,
           "#482878"
          ],
          [
           0.2222222222222222,
           "#3e4989"
          ],
          [
           0.3333333333333333,
           "#31688e"
          ],
          [
           0.4444444444444444,
           "#26828e"
          ],
          [
           0.5555555555555556,
           "#1f9e89"
          ],
          [
           0.6666666666666666,
           "#35b779"
          ],
          [
           0.7777777777777778,
           "#6ece58"
          ],
          [
           0.8888888888888888,
           "#b5de2b"
          ],
          [
           1,
           "#fde725"
          ]
         ]
        },
        "height": 6100,
        "legend": {
         "tracegroupgap": 0
        },
        "template": {
         "data": {
          "bar": [
           {
            "error_x": {
             "color": "#2a3f5f"
            },
            "error_y": {
             "color": "#2a3f5f"
            },
            "marker": {
             "line": {
              "color": "#E5ECF6",
              "width": 0.5
             },
             "pattern": {
              "fillmode": "overlay",
              "size": 10,
              "solidity": 0.2
             }
            },
            "type": "bar"
           }
          ],
          "barpolar": [
           {
            "marker": {
             "line": {
              "color": "#E5ECF6",
              "width": 0.5
             },
             "pattern": {
              "fillmode": "overlay",
              "size": 10,
              "solidity": 0.2
             }
            },
            "type": "barpolar"
           }
          ],
          "carpet": [
           {
            "aaxis": {
             "endlinecolor": "#2a3f5f",
             "gridcolor": "white",
             "linecolor": "white",
             "minorgridcolor": "white",
             "startlinecolor": "#2a3f5f"
            },
            "baxis": {
             "endlinecolor": "#2a3f5f",
             "gridcolor": "white",
             "linecolor": "white",
             "minorgridcolor": "white",
             "startlinecolor": "#2a3f5f"
            },
            "type": "carpet"
           }
          ],
          "choropleth": [
           {
            "colorbar": {
             "outlinewidth": 0,
             "ticks": ""
            },
            "type": "choropleth"
           }
          ],
          "contour": [
           {
            "colorbar": {
             "outlinewidth": 0,
             "ticks": ""
            },
            "colorscale": [
             [
              0,
              "#0d0887"
             ],
             [
              0.1111111111111111,
              "#46039f"
             ],
             [
              0.2222222222222222,
              "#7201a8"
             ],
             [
              0.3333333333333333,
              "#9c179e"
             ],
             [
              0.4444444444444444,
              "#bd3786"
             ],
             [
              0.5555555555555556,
              "#d8576b"
             ],
             [
              0.6666666666666666,
              "#ed7953"
             ],
             [
              0.7777777777777778,
              "#fb9f3a"
             ],
             [
              0.8888888888888888,
              "#fdca26"
             ],
             [
              1,
              "#f0f921"
             ]
            ],
            "type": "contour"
           }
          ],
          "contourcarpet": [
           {
            "colorbar": {
             "outlinewidth": 0,
             "ticks": ""
            },
            "type": "contourcarpet"
           }
          ],
          "heatmap": [
           {
            "colorbar": {
             "outlinewidth": 0,
             "ticks": ""
            },
            "colorscale": [
             [
              0,
              "#0d0887"
             ],
             [
              0.1111111111111111,
              "#46039f"
             ],
             [
              0.2222222222222222,
              "#7201a8"
             ],
             [
              0.3333333333333333,
              "#9c179e"
             ],
             [
              0.4444444444444444,
              "#bd3786"
             ],
             [
              0.5555555555555556,
              "#d8576b"
             ],
             [
              0.6666666666666666,
              "#ed7953"
             ],
             [
              0.7777777777777778,
              "#fb9f3a"
             ],
             [
              0.8888888888888888,
              "#fdca26"
             ],
             [
              1,
              "#f0f921"
             ]
            ],
            "type": "heatmap"
           }
          ],
          "histogram": [
           {
            "marker": {
             "pattern": {
              "fillmode": "overlay",
              "size": 10,
              "solidity": 0.2
             }
            },
            "type": "histogram"
           }
          ],
          "histogram2d": [
           {
            "colorbar": {
             "outlinewidth": 0,
             "ticks": ""
            },
            "colorscale": [
             [
              0,
              "#0d0887"
             ],
             [
              0.1111111111111111,
              "#46039f"
             ],
             [
              0.2222222222222222,
              "#7201a8"
             ],
             [
              0.3333333333333333,
              "#9c179e"
             ],
             [
              0.4444444444444444,
              "#bd3786"
             ],
             [
              0.5555555555555556,
              "#d8576b"
             ],
             [
              0.6666666666666666,
              "#ed7953"
             ],
             [
              0.7777777777777778,
              "#fb9f3a"
             ],
             [
              0.8888888888888888,
              "#fdca26"
             ],
             [
              1,
              "#f0f921"
             ]
            ],
            "type": "histogram2d"
           }
          ],
          "histogram2dcontour": [
           {
            "colorbar": {
             "outlinewidth": 0,
             "ticks": ""
            },
            "colorscale": [
             [
              0,
              "#0d0887"
             ],
             [
              0.1111111111111111,
              "#46039f"
             ],
             [
              0.2222222222222222,
              "#7201a8"
             ],
             [
              0.3333333333333333,
              "#9c179e"
             ],
             [
              0.4444444444444444,
              "#bd3786"
             ],
             [
              0.5555555555555556,
              "#d8576b"
             ],
             [
              0.6666666666666666,
              "#ed7953"
             ],
             [
              0.7777777777777778,
              "#fb9f3a"
             ],
             [
              0.8888888888888888,
              "#fdca26"
             ],
             [
              1,
              "#f0f921"
             ]
            ],
            "type": "histogram2dcontour"
           }
          ],
          "mesh3d": [
           {
            "colorbar": {
             "outlinewidth": 0,
             "ticks": ""
            },
            "type": "mesh3d"
           }
          ],
          "parcoords": [
           {
            "line": {
             "colorbar": {
              "outlinewidth": 0,
              "ticks": ""
             }
            },
            "type": "parcoords"
           }
          ],
          "pie": [
           {
            "automargin": true,
            "type": "pie"
           }
          ],
          "scatter": [
           {
            "fillpattern": {
             "fillmode": "overlay",
             "size": 10,
             "solidity": 0.2
            },
            "type": "scatter"
           }
          ],
          "scatter3d": [
           {
            "line": {
             "colorbar": {
              "outlinewidth": 0,
              "ticks": ""
             }
            },
            "marker": {
             "colorbar": {
              "outlinewidth": 0,
              "ticks": ""
             }
            },
            "type": "scatter3d"
           }
          ],
          "scattercarpet": [
           {
            "marker": {
             "colorbar": {
              "outlinewidth": 0,
              "ticks": ""
             }
            },
            "type": "scattercarpet"
           }
          ],
          "scattergeo": [
           {
            "marker": {
             "colorbar": {
              "outlinewidth": 0,
              "ticks": ""
             }
            },
            "type": "scattergeo"
           }
          ],
          "scattergl": [
           {
            "marker": {
             "colorbar": {
              "outlinewidth": 0,
              "ticks": ""
             }
            },
            "type": "scattergl"
           }
          ],
          "scattermap": [
           {
            "marker": {
             "colorbar": {
              "outlinewidth": 0,
              "ticks": ""
             }
            },
            "type": "scattermap"
           }
          ],
          "scattermapbox": [
           {
            "marker": {
             "colorbar": {
              "outlinewidth": 0,
              "ticks": ""
             }
            },
            "type": "scattermapbox"
           }
          ],
          "scatterpolar": [
           {
            "marker": {
             "colorbar": {
              "outlinewidth": 0,
              "ticks": ""
             }
            },
            "type": "scatterpolar"
           }
          ],
          "scatterpolargl": [
           {
            "marker": {
             "colorbar": {
              "outlinewidth": 0,
              "ticks": ""
             }
            },
            "type": "scatterpolargl"
           }
          ],
          "scatterternary": [
           {
            "marker": {
             "colorbar": {
              "outlinewidth": 0,
              "ticks": ""
             }
            },
            "type": "scatterternary"
           }
          ],
          "surface": [
           {
            "colorbar": {
             "outlinewidth": 0,
             "ticks": ""
            },
            "colorscale": [
             [
              0,
              "#0d0887"
             ],
             [
              0.1111111111111111,
              "#46039f"
             ],
             [
              0.2222222222222222,
              "#7201a8"
             ],
             [
              0.3333333333333333,
              "#9c179e"
             ],
             [
              0.4444444444444444,
              "#bd3786"
             ],
             [
              0.5555555555555556,
              "#d8576b"
             ],
             [
              0.6666666666666666,
              "#ed7953"
             ],
             [
              0.7777777777777778,
              "#fb9f3a"
             ],
             [
              0.8888888888888888,
              "#fdca26"
             ],
             [
              1,
              "#f0f921"
             ]
            ],
            "type": "surface"
           }
          ],
          "table": [
           {
            "cells": {
             "fill": {
              "color": "#EBF0F8"
             },
             "line": {
              "color": "white"
             }
            },
            "header": {
             "fill": {
              "color": "#C8D4E3"
             },
             "line": {
              "color": "white"
             }
            },
            "type": "table"
           }
          ]
         },
         "layout": {
          "annotationdefaults": {
           "arrowcolor": "#2a3f5f",
           "arrowhead": 0,
           "arrowwidth": 1
          },
          "autotypenumbers": "strict",
          "coloraxis": {
           "colorbar": {
            "outlinewidth": 0,
            "ticks": ""
           }
          },
          "colorscale": {
           "diverging": [
            [
             0,
             "#8e0152"
            ],
            [
             0.1,
             "#c51b7d"
            ],
            [
             0.2,
             "#de77ae"
            ],
            [
             0.3,
             "#f1b6da"
            ],
            [
             0.4,
             "#fde0ef"
            ],
            [
             0.5,
             "#f7f7f7"
            ],
            [
             0.6,
             "#e6f5d0"
            ],
            [
             0.7,
             "#b8e186"
            ],
            [
             0.8,
             "#7fbc41"
            ],
            [
             0.9,
             "#4d9221"
            ],
            [
             1,
             "#276419"
            ]
           ],
           "sequential": [
            [
             0,
             "#0d0887"
            ],
            [
             0.1111111111111111,
             "#46039f"
            ],
            [
             0.2222222222222222,
             "#7201a8"
            ],
            [
             0.3333333333333333,
             "#9c179e"
            ],
            [
             0.4444444444444444,
             "#bd3786"
            ],
            [
             0.5555555555555556,
             "#d8576b"
            ],
            [
             0.6666666666666666,
             "#ed7953"
            ],
            [
             0.7777777777777778,
             "#fb9f3a"
            ],
            [
             0.8888888888888888,
             "#fdca26"
            ],
            [
             1,
             "#f0f921"
            ]
           ],
           "sequentialminus": [
            [
             0,
             "#0d0887"
            ],
            [
             0.1111111111111111,
             "#46039f"
            ],
            [
             0.2222222222222222,
             "#7201a8"
            ],
            [
             0.3333333333333333,
             "#9c179e"
            ],
            [
             0.4444444444444444,
             "#bd3786"
            ],
            [
             0.5555555555555556,
             "#d8576b"
            ],
            [
             0.6666666666666666,
             "#ed7953"
            ],
            [
             0.7777777777777778,
             "#fb9f3a"
            ],
            [
             0.8888888888888888,
             "#fdca26"
            ],
            [
             1,
             "#f0f921"
            ]
           ]
          },
          "colorway": [
           "#636efa",
           "#EF553B",
           "#00cc96",
           "#ab63fa",
           "#FFA15A",
           "#19d3f3",
           "#FF6692",
           "#B6E880",
           "#FF97FF",
           "#FECB52"
          ],
          "font": {
           "color": "#2a3f5f"
          },
          "geo": {
           "bgcolor": "white",
           "lakecolor": "white",
           "landcolor": "#E5ECF6",
           "showlakes": true,
           "showland": true,
           "subunitcolor": "white"
          },
          "hoverlabel": {
           "align": "left"
          },
          "hovermode": "closest",
          "mapbox": {
           "style": "light"
          },
          "paper_bgcolor": "white",
          "plot_bgcolor": "#E5ECF6",
          "polar": {
           "angularaxis": {
            "gridcolor": "white",
            "linecolor": "white",
            "ticks": ""
           },
           "bgcolor": "#E5ECF6",
           "radialaxis": {
            "gridcolor": "white",
            "linecolor": "white",
            "ticks": ""
           }
          },
          "scene": {
           "xaxis": {
            "backgroundcolor": "#E5ECF6",
            "gridcolor": "white",
            "gridwidth": 2,
            "linecolor": "white",
            "showbackground": true,
            "ticks": "",
            "zerolinecolor": "white"
           },
           "yaxis": {
            "backgroundcolor": "#E5ECF6",
            "gridcolor": "white",
            "gridwidth": 2,
            "linecolor": "white",
            "showbackground": true,
            "ticks": "",
            "zerolinecolor": "white"
           },
           "zaxis": {
            "backgroundcolor": "#E5ECF6",
            "gridcolor": "white",
            "gridwidth": 2,
            "linecolor": "white",
            "showbackground": true,
            "ticks": "",
            "zerolinecolor": "white"
           }
          },
          "shapedefaults": {
           "line": {
            "color": "#2a3f5f"
           }
          },
          "ternary": {
           "aaxis": {
            "gridcolor": "white",
            "linecolor": "white",
            "ticks": ""
           },
           "baxis": {
            "gridcolor": "white",
            "linecolor": "white",
            "ticks": ""
           },
           "bgcolor": "#E5ECF6",
           "caxis": {
            "gridcolor": "white",
            "linecolor": "white",
            "ticks": ""
           }
          },
          "title": {
           "x": 0.05
          },
          "xaxis": {
           "automargin": true,
           "gridcolor": "white",
           "linecolor": "white",
           "ticks": "",
           "title": {
            "standoff": 15
           },
           "zerolinecolor": "white",
           "zerolinewidth": 2
          },
          "yaxis": {
           "automargin": true,
           "gridcolor": "white",
           "linecolor": "white",
           "ticks": "",
           "title": {
            "standoff": 15
           },
           "zerolinecolor": "white",
           "zerolinewidth": 2
          }
         }
        },
        "title": {
         "text": "Tedavi Adına Göre Ortalama Tedavi Süresi"
        },
        "width": 1000,
        "xaxis": {
         "anchor": "y",
         "domain": [
          0,
          1
         ],
         "title": {
          "text": "Ortalama Tedavi Süresi (Seans)"
         }
        },
        "yaxis": {
         "anchor": "x",
         "autorange": "reversed",
         "domain": [
          0,
          1
         ],
         "title": {
          "text": "Tedavi Adı"
         }
        }
       }
      }
     },
     "metadata": {},
     "output_type": "display_data"
    }
   ],
   "source": [
    "import plotly.express as px\n",
    "\n",
    "tedavi_ortalama = (\n",
    "    df.groupby('TedaviAdi')['TedaviSuresi']\n",
    "      .mean()\n",
    "      .sort_values(ascending=False)\n",
    "      .reset_index()\n",
    ")\n",
    "\n",
    "fig = px.bar(\n",
    "    tedavi_ortalama,\n",
    "    x='TedaviSuresi',\n",
    "    y='TedaviAdi',\n",
    "    orientation='h',\n",
    "    text='TedaviSuresi',\n",
    "    color='TedaviSuresi',\n",
    "    color_continuous_scale='Viridis',\n",
    "    title='Tedavi Adına Göre Ortalama Tedavi Süresi'\n",
    ")\n",
    "\n",
    "fig.update_layout(\n",
    "    yaxis=dict(autorange=\"reversed\"),\n",
    "    xaxis_title='Ortalama Tedavi Süresi (Seans)',\n",
    "    yaxis_title='Tedavi Adı',\n",
    "    height=tedavi_ortalama.shape[0]*25,\n",
    "    width=1000   # 👈 genişliği arttırdık\n",
    ")\n",
    "\n",
    "fig.show()\n"
   ]
  }
 ],
 "metadata": {
  "kernelspec": {
   "display_name": "Python 3",
   "language": "python",
   "name": "python3"
  },
  "language_info": {
   "codemirror_mode": {
    "name": "ipython",
    "version": 3
   },
   "file_extension": ".py",
   "mimetype": "text/x-python",
   "name": "python",
   "nbconvert_exporter": "python",
   "pygments_lexer": "ipython3",
   "version": "3.13.7"
  }
 },
 "nbformat": 4,
 "nbformat_minor": 5
}
